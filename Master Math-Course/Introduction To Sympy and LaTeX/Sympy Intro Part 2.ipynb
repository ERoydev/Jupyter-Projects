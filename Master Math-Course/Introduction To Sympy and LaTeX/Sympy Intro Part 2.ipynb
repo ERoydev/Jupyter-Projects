{
 "cells": [
  {
   "cell_type": "code",
   "execution_count": 13,
   "id": "32cd09bf",
   "metadata": {},
   "outputs": [],
   "source": [
    "import sympy as sym\n",
    "from IPython.display import display, Math\n",
    "\n",
    "sym.init_printing()"
   ]
  },
  {
   "cell_type": "code",
   "execution_count": 14,
   "id": "a2ce4c8e",
   "metadata": {},
   "outputs": [],
   "source": [
    "mu, alpha, sigma = sym.symbols('mu, alpha, sigma')"
   ]
  },
  {
   "cell_type": "code",
   "execution_count": 15,
   "id": "7153a789",
   "metadata": {},
   "outputs": [
    {
     "data": {
      "image/png": "[encoded data removed]",
      "text/latex": [
       "$\\displaystyle e^{\\frac{\\left(- \\alpha + \\mu\\right)^{2}}{2 \\sigma^{2}}}$"
      ],
      "text/plain": [
       "         2\n",
       " (-α + μ) \n",
       " ─────────\n",
       "       2  \n",
       "    2⋅σ   \n",
       "ℯ         "
      ]
     },
     "metadata": {},
     "output_type": "display_data"
    }
   ],
   "source": [
    "expr = sym.exp( (mu - alpha)**2 / (2 * sigma ** 2) )\n",
    "\n",
    "display(expr)"
   ]
  },
  {
   "cell_type": "code",
   "execution_count": 24,
   "id": "dadfd53e",
   "metadata": {},
   "outputs": [
    {
     "data": {
      "image/png": "[encoded data removed]",
      "text/latex": [
       "$\\displaystyle 9$"
      ],
      "text/plain": [
       "9"
      ]
     },
     "execution_count": 24,
     "metadata": {},
     "output_type": "execute_result"
    }
   ],
   "source": [
    "x, y = sym.symbols('x,y')\n",
    "\n",
    "expr = x+4+2*y\n",
    "expr.subs({x:-5, y:5})"
   ]
  },
  {
   "cell_type": "code",
   "execution_count": 28,
   "id": "6e7a65be",
   "metadata": {},
   "outputs": [
    {
     "data": {
      "text/latex": [
       "$\\displaystyle \\frac{3}{x}$"
      ],
      "text/plain": [
       "<IPython.core.display.Math object>"
      ]
     },
     "metadata": {},
     "output_type": "display_data"
    }
   ],
   "source": [
    "expr = 3 / x\n",
    "\n",
    "display(Math(sym.latex(expr)))"
   ]
  },
  {
   "cell_type": "code",
   "execution_count": 36,
   "id": "541f9804",
   "metadata": {},
   "outputs": [
    {
     "data": {
      "text/latex": [
       "$\\displaystyle \\frac{3}{4}$"
      ],
      "text/plain": [
       "<IPython.core.display.Math object>"
      ]
     },
     "metadata": {},
     "output_type": "display_data"
    }
   ],
   "source": [
    "display(Math(sym.latex(sym.sympify('3/4'))))"
   ]
  },
  {
   "cell_type": "markdown",
   "id": "a0669189",
   "metadata": {},
   "source": [
    "# EXERCISE\n"
   ]
  },
  {
   "cell_type": "code",
   "execution_count": 80,
   "id": "8a1bd89b",
   "metadata": {},
   "outputs": [
    {
     "data": {
      "text/latex": [
       "$\\displaystyle \\text{With x} = -2: x^2 + 4 \\quad\\Rightarrow\\quad -2^2 + 4 = 8$"
      ],
      "text/plain": [
       "<IPython.core.display.Math object>"
      ]
     },
     "metadata": {},
     "output_type": "display_data"
    },
    {
     "data": {
      "text/latex": [
       "$\\displaystyle \\text{With x} = -1: x^2 + 4 \\quad\\Rightarrow\\quad -1^2 + 4 = 5$"
      ],
      "text/plain": [
       "<IPython.core.display.Math object>"
      ]
     },
     "metadata": {},
     "output_type": "display_data"
    },
    {
     "data": {
      "text/latex": [
       "$\\displaystyle \\text{With x} = 0: x^2 + 4 \\quad\\Rightarrow\\quad 0^2 + 4 = 4$"
      ],
      "text/plain": [
       "<IPython.core.display.Math object>"
      ]
     },
     "metadata": {},
     "output_type": "display_data"
    },
    {
     "data": {
      "text/latex": [
       "$\\displaystyle \\text{With x} = 1: x^2 + 4 \\quad\\Rightarrow\\quad 1^2 + 4 = 5$"
      ],
      "text/plain": [
       "<IPython.core.display.Math object>"
      ]
     },
     "metadata": {},
     "output_type": "display_data"
    },
    {
     "data": {
      "text/latex": [
       "$\\displaystyle \\text{With x} = 2: x^2 + 4 \\quad\\Rightarrow\\quad 2^2 + 4 = 8$"
      ],
      "text/plain": [
       "<IPython.core.display.Math object>"
      ]
     },
     "metadata": {},
     "output_type": "display_data"
    }
   ],
   "source": [
    "\n",
    "for i in range(-2, 3):\n",
    "    ans = (x+4).subs(x, i**2)\n",
    "    display(Math('\\\\text{With x} = %g: x^2 + 4 \\\\quad\\\\Rightarrow\\\\quad %g^2 + 4 = %g' %(i,i, ans)))\n"
   ]
  }
 ],
 "metadata": {
  "kernelspec": {
   "display_name": "Python 3 (ipykernel)",
   "language": "python",
   "name": "python3"
  },
  "language_info": {
   "codemirror_mode": {
    "name": "ipython",
    "version": 3
   },
   "file_extension": ".py",
   "mimetype": "text/x-python",
   "name": "python",
   "nbconvert_exporter": "python",
   "pygments_lexer": "ipython3",
   "version": "3.11.4"
  }
 },
 "nbformat": 4,
 "nbformat_minor": 5
}
