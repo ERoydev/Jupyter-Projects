{
 "cells": [
  {
   "cell_type": "code",
   "execution_count": 10,
   "id": "3197e4b8",
   "metadata": {},
   "outputs": [],
   "source": [
    "import math\n",
    "from IPython.display import display, Math"
   ]
  },
  {
   "cell_type": "code",
   "execution_count": 11,
   "id": "8a14b932",
   "metadata": {},
   "outputs": [
    {
     "data": {
      "text/plain": [
       "4"
      ]
     },
     "execution_count": 11,
     "metadata": {},
     "output_type": "execute_result"
    }
   ],
   "source": [
    "math.gcd(4, 16)\n"
   ]
  },
  {
   "cell_type": "code",
   "execution_count": 18,
   "id": "07669d4a",
   "metadata": {},
   "outputs": [
    {
     "data": {
      "text/latex": [
       "$\\displaystyle \\frac{16}{88} = \\frac{2 \\times 8}{11 \\times 8}$"
      ],
      "text/plain": [
       "<IPython.core.display.Math object>"
      ]
     },
     "metadata": {},
     "output_type": "display_data"
    }
   ],
   "source": [
    "# application\n",
    "\n",
    "a = 16\n",
    "\n",
    "b = 88\n",
    "\n",
    "fact = math.gcd(a, b)\n",
    "\n",
    "display(Math('\\\\frac{%g}{%g} = \\\\frac{%g \\\\times %g}{%g \\\\times %g}' %(a, b, a/fact, fact, b/fact, fact)))"
   ]
  },
  {
   "cell_type": "markdown",
   "id": "46978a68",
   "metadata": {},
   "source": [
    "# Exercise\n"
   ]
  },
  {
   "cell_type": "code",
   "execution_count": 60,
   "id": "2dea997a",
   "metadata": {},
   "outputs": [
    {
     "name": "stdout",
     "output_type": "stream",
     "text": [
      "9\n",
      "9\n"
     ]
    }
   ],
   "source": [
    "# exercise 1)\n",
    "\n",
    "import sympy as sym\n",
    "\n",
    "a, b, c = sym.symbols('a b c')\n",
    "\n",
    "a = 15\n",
    "b = 6\n",
    "c = 3\n",
    "\n",
    "gcd = math.gcd(c * a, c * b)\n",
    "frac = math.gcd(a, b)\n",
    "\n",
    "print(math.gcd(a*c, b*c))\n",
    "print(c*math.gcd(a, b))\n"
   ]
  },
  {
   "cell_type": "code",
   "execution_count": 88,
   "id": "639fbeae",
   "metadata": {},
   "outputs": [
    {
     "data": {
      "text/latex": [
       "$\\displaystyle \\left[\\begin{array}{}1 & 1 & 1 & 1 & 1 & 1 & 1 & 1 & 1 & 1 & 1 & 1 & 1 & 1 & 1\\\\1 & 2 & 1 & 2 & 1 & 2 & 1 & 2 & 1 & 2 & 1 & 2 & 1 & 2 & 1\\\\1 & 1 & 3 & 1 & 1 & 3 & 1 & 1 & 3 & 1 & 1 & 3 & 1 & 1 & 3\\\\1 & 2 & 1 & 4 & 1 & 2 & 1 & 4 & 1 & 2 & 1 & 4 & 1 & 2 & 1\\\\1 & 1 & 1 & 1 & 5 & 1 & 1 & 1 & 1 & 5 & 1 & 1 & 1 & 1 & 5\\\\1 & 2 & 3 & 2 & 1 & 6 & 1 & 2 & 3 & 2 & 1 & 6 & 1 & 2 & 3\\\\1 & 1 & 1 & 1 & 1 & 1 & 7 & 1 & 1 & 1 & 1 & 1 & 1 & 7 & 1\\\\1 & 2 & 1 & 4 & 1 & 2 & 1 & 8 & 1 & 2 & 1 & 4 & 1 & 2 & 1\\\\1 & 1 & 3 & 1 & 1 & 3 & 1 & 1 & 9 & 1 & 1 & 3 & 1 & 1 & 3\\\\1 & 2 & 1 & 2 & 5 & 2 & 1 & 2 & 1 & 10 & 1 & 2 & 1 & 2 & 5\\end{array}\\right]$"
      ],
      "text/plain": [
       "<IPython.core.display.Math object>"
      ]
     },
     "metadata": {},
     "output_type": "display_data"
    }
   ],
   "source": [
    "# exercise 2)\n",
    "import numpy as np\n",
    "ROWS = 10\n",
    "COLS = 15\n",
    "\n",
    "matrix = np.zeros([ROWS, COLS], dtype=int) + 99\n",
    "\n",
    "for i in range(ROWS):\n",
    "    for j in range(COLS):\n",
    "        matrix[i, j] = math.gcd(i+1, j+1)\n",
    "        \n",
    "display(Math(sym.latex(sym.sympify(matrix))))"
   ]
  },
  {
   "cell_type": "markdown",
   "id": "22a05ab7",
   "metadata": {},
   "source": [
    "# DICT Exercise\n"
   ]
  },
  {
   "cell_type": "code",
   "execution_count": 177,
   "id": "10b4f2d8",
   "metadata": {},
   "outputs": [
    {
     "name": "stdout",
     "output_type": "stream",
     "text": [
      "Equation solution for X:\n"
     ]
    },
    {
     "data": {
      "text/latex": [
       "$\\displaystyle \\qquad 4 x - 6\\quad \\Rightarrow \\quad X = \\left[ \\frac{3}{2}\\right]$"
      ],
      "text/plain": [
       "<IPython.core.display.Math object>"
      ]
     },
     "metadata": {},
     "output_type": "display_data"
    },
    {
     "data": {
      "text/latex": [
       "$\\displaystyle \\qquad x^{2} - 9\\quad \\Rightarrow \\quad X = \\left[ -3, \\  3\\right]$"
      ],
      "text/plain": [
       "<IPython.core.display.Math object>"
      ]
     },
     "metadata": {},
     "output_type": "display_data"
    },
    {
     "name": "stdout",
     "output_type": "stream",
     "text": [
      "Equation solution for Y:\n"
     ]
    },
    {
     "data": {
      "text/latex": [
       "$\\displaystyle \\qquad \\sin{\\left(y \\right)}\\quad \\Rightarrow \\quad Y = \\left[ 0, \\  \\pi\\right]$"
      ],
      "text/plain": [
       "<IPython.core.display.Math object>"
      ]
     },
     "metadata": {},
     "output_type": "display_data"
    }
   ],
   "source": [
    "x, y, sin = sym.symbols('x y sin')\n",
    "\n",
    "result = {'X': [4*x - 6, x**2 - 9], 'Y': [sym.sin(y)]}\n",
    "\n",
    "for key in result:\n",
    "    print(f\"Equation solution for {key}:\")\n",
    "    for equation in result[key]:\n",
    "        leftpart = sym.latex(equation)\n",
    "        midpart = '\\\\quad \\\\Rightarrow \\\\quad ' + f'{key} = '\n",
    "        rightpart = sym.latex(sym.solve(equation))\n",
    "        \n",
    "        display(Math('\\\\qquad ' + leftpart + midpart + rightpart))\n",
    "    \n"
   ]
  },
  {
   "cell_type": "code",
   "execution_count": null,
   "id": "2c3ac04b",
   "metadata": {},
   "outputs": [],
   "source": []
  }
 ],
 "metadata": {
  "kernelspec": {
   "display_name": "Python 3 (ipykernel)",
   "language": "python",
   "name": "python3"
  },
  "language_info": {
   "codemirror_mode": {
    "name": "ipython",
    "version": 3
   },
   "file_extension": ".py",
   "mimetype": "text/x-python",
   "name": "python",
   "nbconvert_exporter": "python",
   "pygments_lexer": "ipython3",
   "version": "3.11.4"
  }
 },
 "nbformat": 4,
 "nbformat_minor": 5
}
