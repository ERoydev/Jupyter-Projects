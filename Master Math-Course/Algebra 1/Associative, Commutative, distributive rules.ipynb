{
 "cells": [
  {
   "cell_type": "code",
   "execution_count": 1,
   "id": "5ba54d29",
   "metadata": {},
   "outputs": [],
   "source": [
    "import sympy as sym\n"
   ]
  },
  {
   "cell_type": "code",
   "execution_count": 26,
   "id": "050ba562",
   "metadata": {},
   "outputs": [
    {
     "data": {
      "text/latex": [
       "$\\displaystyle 0$"
      ],
      "text/plain": [
       "0"
      ]
     },
     "execution_count": 26,
     "metadata": {},
     "output_type": "execute_result"
    }
   ],
   "source": [
    "# associative rule\n",
    "# from sympy.abc import x, y\n",
    "\n",
    "expr1 = x*(4*y)\n",
    "expr2 = (x*4)*y\n",
    "\n",
    "expr1 - expr2"
   ]
  },
  {
   "cell_type": "code",
   "execution_count": 27,
   "id": "63509bab",
   "metadata": {},
   "outputs": [
    {
     "name": "stdout",
     "output_type": "stream",
     "text": [
      "24\n",
      "24\n",
      "24\n"
     ]
    }
   ],
   "source": [
    "# commutative\n",
    "\n",
    "e1 = 4*x*y\n",
    "e2 = x*4*y\n",
    "e3 = y*x*4\n",
    "\n",
    "print(e1.subs({x: 3, y:2}))\n",
    "print(e2.subs({x: 3, y:2}))     \n",
    "print(e2.subs({x: 3, y:2}) )    "
   ]
  },
  {
   "cell_type": "code",
   "execution_count": 28,
   "id": "7f1cb50b",
   "metadata": {},
   "outputs": [
    {
     "data": {
      "text/latex": [
       "$\\displaystyle a c + a d$"
      ],
      "text/plain": [
       "a*c + a*d"
      ]
     },
     "execution_count": 28,
     "metadata": {},
     "output_type": "execute_result"
    }
   ],
   "source": [
    "# distributive\n",
    "\n",
    "a, b, c, d = sym.symbols('a, b, c, d')\n",
    "\n",
    "expr = a*(c+d)\n",
    "sym.expand(expr)"
   ]
  },
  {
   "cell_type": "markdown",
   "id": "6e1ef5f5",
   "metadata": {},
   "source": [
    "# Exercise"
   ]
  },
  {
   "cell_type": "code",
   "execution_count": 42,
   "id": "45f32a49",
   "metadata": {},
   "outputs": [
    {
     "data": {
      "text/latex": [
       "$\\displaystyle \\left(y + z\\right) \\left(w \\left(4 - w\\right) + \\frac{w + 1}{w^{2}}\\right) \\left(\\left(w \\left(4 - w\\right) + \\frac{w + 1}{w^{2}}\\right)^{2} + \\frac{3}{w \\left(4 - w\\right) + \\frac{w + 1}{w^{2}}}\\right)$"
      ],
      "text/plain": [
       "<IPython.core.display.Math object>"
      ]
     },
     "metadata": {},
     "output_type": "display_data"
    },
    {
     "data": {
      "text/latex": [
       "$\\displaystyle \\frac{\\left(3 w^{6} + \\left(- w^{3} \\left(w - 4\\right) + w + 1\\right)^{3}\\right) \\left(y + z\\right)}{w^{6}}$"
      ],
      "text/plain": [
       "<IPython.core.display.Math object>"
      ]
     },
     "metadata": {},
     "output_type": "display_data"
    },
    {
     "data": {
      "text/latex": [
       "$\\displaystyle 0$"
      ],
      "text/plain": [
       "<IPython.core.display.Math object>"
      ]
     },
     "metadata": {},
     "output_type": "display_data"
    }
   ],
   "source": [
    "from IPython.display import display, Math\n",
    "\n",
    "x, y, z, w = sym.symbols('x y z w')\n",
    "\n",
    "x = w*(4-w) + 1/w**2 * (1+w)\n",
    "\n",
    "f1 = x*(y + z)\n",
    "f2 = 3/x + x**2\n",
    "\n",
    "display(Math(sym.latex(f1 * f2)))\n",
    "display(Math(sym.latex(sym.simplify(f1 * f2))))\n",
    "\n",
    "display(Math(sym.latex(sym.simplify(f1 * f2 - f2*f1))))"
   ]
  },
  {
   "cell_type": "code",
   "execution_count": null,
   "id": "107ba801",
   "metadata": {},
   "outputs": [],
   "source": []
  }
 ],
 "metadata": {
  "kernelspec": {
   "display_name": "Python 3 (ipykernel)",
   "language": "python",
   "name": "python3"
  },
  "language_info": {
   "codemirror_mode": {
    "name": "ipython",
    "version": 3
   },
   "file_extension": ".py",
   "mimetype": "text/x-python",
   "name": "python",
   "nbconvert_exporter": "python",
   "pygments_lexer": "ipython3",
   "version": "3.11.4"
  }
 },
 "nbformat": 4,
 "nbformat_minor": 5
}
