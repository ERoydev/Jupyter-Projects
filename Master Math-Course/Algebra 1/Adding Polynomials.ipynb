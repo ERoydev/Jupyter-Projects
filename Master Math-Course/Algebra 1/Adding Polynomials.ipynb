{
 "cells": [
  {
   "cell_type": "code",
   "execution_count": 53,
   "id": "27f1b0d9",
   "metadata": {},
   "outputs": [],
   "source": [
    "import sympy as sym\n",
    "from IPython.display import Math, display"
   ]
  },
  {
   "cell_type": "code",
   "execution_count": 54,
   "id": "7dc5bc7a",
   "metadata": {},
   "outputs": [
    {
     "data": {
      "text/latex": [
       "$\\displaystyle (2 x^{3} + x^{2} - x) + (- x^{4} + x^{3} - 4 x^{2}) = - x^{4} + 3 x^{3} - 3 x^{2} - x$"
      ],
      "text/plain": [
       "<IPython.core.display.Math object>"
      ]
     },
     "metadata": {},
     "output_type": "display_data"
    }
   ],
   "source": [
    "from sympy.abc import x\n",
    "\n",
    "p1 = 2*x**3 + x**2 - x\n",
    "p2 = x**3 - x**4 - 4*x**2\n",
    "\n",
    "display(Math('(%s) + (%s) = %s' %(sym.latex(p1), sym.latex(p2), sym.latex(p1 + p2))))"
   ]
  },
  {
   "cell_type": "code",
   "execution_count": 55,
   "id": "60238112",
   "metadata": {},
   "outputs": [
    {
     "name": "stdout",
     "output_type": "stream",
     "text": [
      "Poly(2*x**3 + x**2 - x, x, domain='ZZ')\n"
     ]
    }
   ],
   "source": [
    "p1 = sym.Poly(2*x**3 + x**2 - x)\n",
    "\n",
    "print(p1)"
   ]
  },
  {
   "cell_type": "code",
   "execution_count": 56,
   "id": "ab4da69b",
   "metadata": {},
   "outputs": [
    {
     "data": {
      "text/plain": [
       "[2, 1, -1]"
      ]
     },
     "execution_count": 56,
     "metadata": {},
     "output_type": "execute_result"
    }
   ],
   "source": [
    "p1.coeffs()"
   ]
  },
  {
   "cell_type": "code",
   "execution_count": 57,
   "id": "5b02f10b",
   "metadata": {
    "scrolled": true
   },
   "outputs": [
    {
     "data": {
      "text/latex": [
       "$\\displaystyle 0$"
      ],
      "text/plain": [
       "0"
      ]
     },
     "execution_count": 57,
     "metadata": {},
     "output_type": "execute_result"
    }
   ],
   "source": [
    "p1.eval(0)"
   ]
  },
  {
   "cell_type": "markdown",
   "id": "5cd4ad3a",
   "metadata": {},
   "source": [
    "## Exercise"
   ]
  },
  {
   "cell_type": "code",
   "execution_count": 59,
   "id": "3c80978d",
   "metadata": {},
   "outputs": [
    {
     "ename": "TypeError",
     "evalue": "'int' object is not callable",
     "output_type": "error",
     "traceback": [
      "\u001b[1;31m---------------------------------------------------------------------------\u001b[0m",
      "\u001b[1;31mTypeError\u001b[0m                                 Traceback (most recent call last)",
      "Cell \u001b[1;32mIn[59], line 6\u001b[0m\n\u001b[0;32m      4\u001b[0m \u001b[38;5;28;01mfor\u001b[39;00m poli \u001b[38;5;129;01min\u001b[39;00m polys:\n\u001b[0;32m      5\u001b[0m     \u001b[38;5;28;01mif\u001b[39;00m poli\u001b[38;5;241m.\u001b[39mdegree() \u001b[38;5;241m%\u001b[39m \u001b[38;5;241m2\u001b[39m \u001b[38;5;241m==\u001b[39m \u001b[38;5;241m0\u001b[39m:\n\u001b[1;32m----> 6\u001b[0m        \u001b[38;5;28mprint\u001b[39m(\u001b[38;5;124m\"\u001b[39m\u001b[38;5;124mDegree of \u001b[39m\u001b[38;5;132;01m%s\u001b[39;00m\u001b[38;5;124m is even and coefficients sum is = \u001b[39m\u001b[38;5;132;01m%g\u001b[39;00m\u001b[38;5;124m\"\u001b[39m \u001b[38;5;241m%\u001b[39m(poli\u001b[38;5;241m.\u001b[39mas_expr(), \u001b[38;5;28msum\u001b[39m(poli\u001b[38;5;241m.\u001b[39mcoeffs())))\n\u001b[0;32m      8\u001b[0m     \u001b[38;5;28;01melse\u001b[39;00m:\n\u001b[0;32m      9\u001b[0m         \u001b[38;5;28mprint\u001b[39m(\u001b[38;5;124m'\u001b[39m\u001b[38;5;124mThe degree of \u001b[39m\u001b[38;5;132;01m%s\u001b[39;00m\u001b[38;5;124m is odd and there are \u001b[39m\u001b[38;5;132;01m%g\u001b[39;00m\u001b[38;5;124m'\u001b[39m \u001b[38;5;241m%\u001b[39m(poli\u001b[38;5;241m.\u001b[39mas_expr(), \u001b[38;5;28mlen\u001b[39m(poli\u001b[38;5;241m.\u001b[39mcoeffs())))\n",
      "\u001b[1;31mTypeError\u001b[0m: 'int' object is not callable"
     ]
    }
   ],
   "source": [
    "# LECTOR WAY\n",
    "polys = [ sym.Poly(2*x + x**2), sym.Poly(-x**3 + 4*x), sym.Poly(x**5 - x**4 + x/4 + 4)]\n",
    "\n",
    "for poli in polys:\n",
    "    if poli.degree() % 2 == 0:\n",
    "       print(\"Degree of %s is even and coefficients sum is = %g\" %(poli.as_expr(), sum(poli.coeffs())))\n",
    "    \n",
    "    else:\n",
    "        print('The degree of %s is odd and there are %g' %(poli.as_expr(), len(poli.coeffs())))\n",
    "    "
   ]
  },
  {
   "cell_type": "code",
   "execution_count": null,
   "id": "27f31819",
   "metadata": {},
   "outputs": [],
   "source": []
  },
  {
   "cell_type": "code",
   "execution_count": null,
   "id": "55902586",
   "metadata": {},
   "outputs": [],
   "source": []
  }
 ],
 "metadata": {
  "kernelspec": {
   "display_name": "Python 3 (ipykernel)",
   "language": "python",
   "name": "python3"
  },
  "language_info": {
   "codemirror_mode": {
    "name": "ipython",
    "version": 3
   },
   "file_extension": ".py",
   "mimetype": "text/x-python",
   "name": "python",
   "nbconvert_exporter": "python",
   "pygments_lexer": "ipython3",
   "version": "3.11.4"
  }
 },
 "nbformat": 4,
 "nbformat_minor": 5
}
