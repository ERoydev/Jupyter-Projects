{
 "cells": [
  {
   "cell_type": "code",
   "execution_count": 5,
   "id": "e5e0c11e",
   "metadata": {},
   "outputs": [],
   "source": [
    "import sympy as sym\n",
    "from IPython.display import Math, display"
   ]
  },
  {
   "cell_type": "code",
   "execution_count": 18,
   "id": "2ee6439f",
   "metadata": {},
   "outputs": [
    {
     "name": "stdout",
     "output_type": "stream",
     "text": [
      "Degree of x**2 + 2*x is even and coefficients sum is = 3\n",
      "The degree of -x**3 + 4*x is odd and there are 2\n",
      "The degree of x**5 - x**4 + x/4 + 4 is odd and there are 4\n"
     ]
    }
   ],
   "source": [
    "from sympy.abc import x\n",
    "polys = [ sym.Poly(2*x + x**2), sym.Poly(-x**3 + 4*x), sym.Poly(x**5 - x**4 + x/4 + 4)]\n",
    "\n",
    "for poli in polys:\n",
    "    if poli.degree() % 2 == 0:\n",
    "       print(\"Degree of %s is even and coefficients sum is = %g\" %(poli.as_expr(), sum(poli.coeffs())))\n",
    "    \n",
    "    else:\n",
    "        print('The degree of %s is odd and there are %g' %(poli.as_expr(), len(poli.coeffs())))"
   ]
  },
  {
   "cell_type": "code",
   "execution_count": null,
   "id": "b9b5fd88",
   "metadata": {},
   "outputs": [],
   "source": []
  }
 ],
 "metadata": {
  "kernelspec": {
   "display_name": "Python 3 (ipykernel)",
   "language": "python",
   "name": "python3"
  },
  "language_info": {
   "codemirror_mode": {
    "name": "ipython",
    "version": 3
   },
   "file_extension": ".py",
   "mimetype": "text/x-python",
   "name": "python",
   "nbconvert_exporter": "python",
   "pygments_lexer": "ipython3",
   "version": "3.11.4"
  }
 },
 "nbformat": 4,
 "nbformat_minor": 5
}
