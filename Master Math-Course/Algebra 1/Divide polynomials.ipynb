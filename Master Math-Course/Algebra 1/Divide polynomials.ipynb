{
 "cells": [
  {
   "cell_type": "code",
   "execution_count": 38,
   "id": "322f9b63",
   "metadata": {},
   "outputs": [],
   "source": [
    "import sympy as sym\n",
    "from IPython.display import Math, display"
   ]
  },
  {
   "cell_type": "code",
   "execution_count": 11,
   "id": "44f6bceb",
   "metadata": {},
   "outputs": [
    {
     "data": {
      "text/latex": [
       "$\\displaystyle \\frac{4 x^{5} - x}{2 x^{3} - x} = \\frac{4 x^{5} - x}{2 x^{3} - x}$"
      ],
      "text/plain": [
       "<IPython.core.display.Math object>"
      ]
     },
     "metadata": {},
     "output_type": "display_data"
    },
    {
     "data": {
      "text/latex": [
       "$\\displaystyle \\frac{4 x^{5} - x}{2 x^{3} - x} = \\frac{4 x^{5}}{2 x^{3} - x} - \\frac{x}{2 x^{3} - x}$"
      ],
      "text/plain": [
       "<IPython.core.display.Math object>"
      ]
     },
     "metadata": {},
     "output_type": "display_data"
    },
    {
     "data": {
      "text/latex": [
       "$\\displaystyle \\frac{4 x^{5} - x}{2 x^{3} - x} = 2 x^{2} + 1$"
      ],
      "text/plain": [
       "<IPython.core.display.Math object>"
      ]
     },
     "metadata": {},
     "output_type": "display_data"
    }
   ],
   "source": [
    "x, y = sym.symbols('x y')\n",
    "\n",
    "p1 = 4*x**5 - x\n",
    "p2 = 2*x**3 - x\n",
    "\n",
    "display(Math('\\\\frac{%s}{%s} = %s' %(sym.latex(p1), sym.latex(p2), sym.latex(p1 / p2))))\n",
    "display(Math('\\\\frac{%s}{%s} = %s' %(sym.latex(p1), sym.latex(p2), sym.latex(sym.expand(p1 / p2)))))\n",
    "\n",
    "display(Math('\\\\frac{%s}{%s} = %s' %(sym.latex(p1), sym.latex(p2), sym.latex(sym.simplify(p1 / p2)))))"
   ]
  },
  {
   "cell_type": "markdown",
   "id": "22730f71",
   "metadata": {},
   "source": [
    "# EXERCISE"
   ]
  },
  {
   "cell_type": "code",
   "execution_count": 44,
   "id": "7e7a9af7",
   "metadata": {},
   "outputs": [
    {
     "data": {
      "text/latex": [
       "$\\displaystyle \\frac{x^{6} + 2 x^{4} + 6 x - 5}{x^{3} + 3} = \\frac{x^{6} + 2 x^{4} + 6 x - 5}{x^{3} + 3}$"
      ],
      "text/plain": [
       "<IPython.core.display.Math object>"
      ]
     },
     "metadata": {},
     "output_type": "display_data"
    },
    {
     "data": {
      "text/latex": [
       "$\\displaystyle \\frac{x^{6} + 2 x^{4} + 6 x - 6}{x^{3} + 3} = \\frac{x^{6} + 2 x^{4} + 6 x - 6}{x^{3} + 3}$"
      ],
      "text/plain": [
       "<IPython.core.display.Math object>"
      ]
     },
     "metadata": {},
     "output_type": "display_data"
    },
    {
     "data": {
      "text/latex": [
       "$\\displaystyle \\frac{x^{6} + 2 x^{4} + 6 x - 7}{x^{3} + 3} = \\frac{x^{6} + 2 x^{4} + 6 x - 7}{x^{3} + 3}$"
      ],
      "text/plain": [
       "<IPython.core.display.Math object>"
      ]
     },
     "metadata": {},
     "output_type": "display_data"
    },
    {
     "data": {
      "text/latex": [
       "$\\displaystyle \\frac{x^{6} + 2 x^{4} + 6 x - 8}{x^{3} + 3} = \\frac{x^{6} + 2 x^{4} + 6 x - 8}{x^{3} + 3}$"
      ],
      "text/plain": [
       "<IPython.core.display.Math object>"
      ]
     },
     "metadata": {},
     "output_type": "display_data"
    },
    {
     "data": {
      "text/latex": [
       "$\\displaystyle \\frac{x^{6} + 2 x^{4} + 6 x - 9}{x^{3} + 3} = x^{3} + 2 x - 3$"
      ],
      "text/plain": [
       "<IPython.core.display.Math object>"
      ]
     },
     "metadata": {},
     "output_type": "display_data"
    },
    {
     "data": {
      "text/latex": [
       "$\\displaystyle \\frac{x^{6} + 2 x^{4} + 6 x - 10}{x^{3} + 3} = \\frac{x^{6} + 2 x^{4} + 6 x - 10}{x^{3} + 3}$"
      ],
      "text/plain": [
       "<IPython.core.display.Math object>"
      ]
     },
     "metadata": {},
     "output_type": "display_data"
    },
    {
     "data": {
      "text/latex": [
       "$\\displaystyle \\frac{x^{6} + 2 x^{4} + 6 x - 11}{x^{3} + 3} = \\frac{x^{6} + 2 x^{4} + 6 x - 11}{x^{3} + 3}$"
      ],
      "text/plain": [
       "<IPython.core.display.Math object>"
      ]
     },
     "metadata": {},
     "output_type": "display_data"
    },
    {
     "data": {
      "text/latex": [
       "$\\displaystyle \\frac{x^{6} + 2 x^{4} + 6 x - 12}{x^{3} + 3} = \\frac{x^{6} + 2 x^{4} + 6 x - 12}{x^{3} + 3}$"
      ],
      "text/plain": [
       "<IPython.core.display.Math object>"
      ]
     },
     "metadata": {},
     "output_type": "display_data"
    },
    {
     "data": {
      "text/latex": [
       "$\\displaystyle \\frac{x^{6} + 2 x^{4} + 6 x - 13}{x^{3} + 3} = \\frac{x^{6} + 2 x^{4} + 6 x - 13}{x^{3} + 3}$"
      ],
      "text/plain": [
       "<IPython.core.display.Math object>"
      ]
     },
     "metadata": {},
     "output_type": "display_data"
    },
    {
     "data": {
      "text/latex": [
       "$\\displaystyle \\frac{x^{6} + 2 x^{4} + 6 x - 14}{x^{3} + 3} = \\frac{x^{6} + 2 x^{4} + 6 x - 14}{x^{3} + 3}$"
      ],
      "text/plain": [
       "<IPython.core.display.Math object>"
      ]
     },
     "metadata": {},
     "output_type": "display_data"
    },
    {
     "data": {
      "text/latex": [
       "$\\displaystyle \\frac{x^{6} + 2 x^{4} + 6 x - 15}{x^{3} + 3} = \\frac{x^{6} + 2 x^{4} + 6 x - 15}{x^{3} + 3}$"
      ],
      "text/plain": [
       "<IPython.core.display.Math object>"
      ]
     },
     "metadata": {},
     "output_type": "display_data"
    },
    {
     "name": "stdout",
     "output_type": "stream",
     "text": [
      "The answer is y=9\n"
     ]
    }
   ],
   "source": [
    "\n",
    "pNum = x**6 + 2*x**4 + 6*x - y\n",
    "pDen = x**3 + 3\n",
    "rightanswer = None\n",
    "\n",
    "for yi in range(5, 16):\n",
    "    tempNum = pNum.subs(y,yi)\n",
    "    \n",
    "    display(Math('%s = %s' %(sym.latex(tempNum/pDen), sym.latex(sym.simplify(tempNum/pDen)))))\n",
    "    \n",
    "    if sym.fraction(sym.simplify(tempNum/pDen))[1] == 1:\n",
    "        rightanswer = yi\n",
    "        \n",
    "print('The answer is y=%g' %rightanswer)\n"
   ]
  },
  {
   "cell_type": "code",
   "execution_count": null,
   "id": "7944850a",
   "metadata": {},
   "outputs": [],
   "source": []
  },
  {
   "cell_type": "code",
   "execution_count": null,
   "id": "4208ce41",
   "metadata": {},
   "outputs": [],
   "source": []
  }
 ],
 "metadata": {
  "kernelspec": {
   "display_name": "Python 3 (ipykernel)",
   "language": "python",
   "name": "python3"
  },
  "language_info": {
   "codemirror_mode": {
    "name": "ipython",
    "version": 3
   },
   "file_extension": ".py",
   "mimetype": "text/x-python",
   "name": "python",
   "nbconvert_exporter": "python",
   "pygments_lexer": "ipython3",
   "version": "3.11.4"
  }
 },
 "nbformat": 4,
 "nbformat_minor": 5
}
