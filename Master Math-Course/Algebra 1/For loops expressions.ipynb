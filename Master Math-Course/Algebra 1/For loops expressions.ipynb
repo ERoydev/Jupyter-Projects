{
 "cells": [
  {
   "cell_type": "code",
   "execution_count": 40,
   "id": "71f42935",
   "metadata": {},
   "outputs": [],
   "source": [
    "import sympy as sym\n",
    "from IPython.display import display, Math"
   ]
  },
  {
   "cell_type": "code",
   "execution_count": 41,
   "id": "87fa7a3c",
   "metadata": {},
   "outputs": [
    {
     "data": {
      "text/latex": [
       "$\\displaystyle \\text{The solution is } 2 x - 5 \\text{ is x=} 2.5$"
      ],
      "text/plain": [
       "<IPython.core.display.Math object>"
      ]
     },
     "metadata": {},
     "output_type": "display_data"
    }
   ],
   "source": [
    "x = sym.symbols('x')\n",
    "\n",
    "expr = 2*x + 4 - 9\n",
    "\n",
    "x = 5/2\n",
    "\n",
    "sym.solve(expr)\n",
    "\n",
    "display(Math('\\\\text{The solution is } %s \\\\text{ is x=} %g' %(sym.latex(expr), sym.solve(expr)[0])))"
   ]
  },
  {
   "cell_type": "code",
   "execution_count": 42,
   "id": "56fbaac4",
   "metadata": {},
   "outputs": [],
   "source": [
    "expr = x**2 - 4\n",
    "\n",
    "sol = sym.solve(expr)\n",
    "\n",
    "for i in range(0, len(sol)):\n",
    "    print(sol[i])"
   ]
  },
  {
   "cell_type": "code",
   "execution_count": 45,
   "id": "86c0dbb8",
   "metadata": {},
   "outputs": [
    {
     "data": {
      "text/plain": [
       "[2.25000000000000]"
      ]
     },
     "execution_count": 45,
     "metadata": {},
     "output_type": "execute_result"
    }
   ],
   "source": [
    "y = sym.symbols('y')\n",
    "\n",
    "expr = x/4 - x*y + 5\n",
    "\n",
    "sym.solve(expr, y)"
   ]
  },
  {
   "cell_type": "code",
   "execution_count": null,
   "id": "24b351ad",
   "metadata": {},
   "outputs": [],
   "source": []
  }
 ],
 "metadata": {
  "kernelspec": {
   "display_name": "Python 3 (ipykernel)",
   "language": "python",
   "name": "python3"
  },
  "language_info": {
   "codemirror_mode": {
    "name": "ipython",
    "version": 3
   },
   "file_extension": ".py",
   "mimetype": "text/x-python",
   "name": "python",
   "nbconvert_exporter": "python",
   "pygments_lexer": "ipython3",
   "version": "3.11.4"
  }
 },
 "nbformat": 4,
 "nbformat_minor": 5
}
