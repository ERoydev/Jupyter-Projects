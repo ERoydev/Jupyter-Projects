{
 "cells": [
  {
   "cell_type": "code",
   "execution_count": 5,
   "id": "93646e69",
   "metadata": {},
   "outputs": [],
   "source": [
    "import sympy as sym"
   ]
  },
  {
   "cell_type": "code",
   "execution_count": 6,
   "id": "520de509",
   "metadata": {},
   "outputs": [
    {
     "ename": "ImportError",
     "evalue": "cannot import name 'x2' from 'sympy.abc' (D:\\Programming Stuff\\Anaconda\\Lib\\site-packages\\sympy\\abc.py)",
     "output_type": "error",
     "traceback": [
      "\u001b[1;31m---------------------------------------------------------------------------\u001b[0m",
      "\u001b[1;31mImportError\u001b[0m                               Traceback (most recent call last)",
      "Cell \u001b[1;32mIn[6], line 1\u001b[0m\n\u001b[1;32m----> 1\u001b[0m \u001b[38;5;28;01mfrom\u001b[39;00m \u001b[38;5;21;01msympy\u001b[39;00m\u001b[38;5;21;01m.\u001b[39;00m\u001b[38;5;21;01mabc\u001b[39;00m \u001b[38;5;28;01mimport\u001b[39;00m x2\n\u001b[0;32m      3\u001b[0m x2 \u001b[38;5;241m=\u001b[39m \u001b[38;5;241m4\u001b[39m\n",
      "\u001b[1;31mImportError\u001b[0m: cannot import name 'x2' from 'sympy.abc' (D:\\Programming Stuff\\Anaconda\\Lib\\site-packages\\sympy\\abc.py)"
     ]
    }
   ],
   "source": [
    "from sympy.abc import x2\n",
    "\n",
    "x2 = 4"
   ]
  },
  {
   "cell_type": "code",
   "execution_count": null,
   "id": "9f0d3caa",
   "metadata": {},
   "outputs": [],
   "source": [
    "a, b, c = sym.symbols('a,b,c')\n",
    "\n",
    "expr = 4*b + 5"
   ]
  }
 ],
 "metadata": {
  "kernelspec": {
   "display_name": "Python 3 (ipykernel)",
   "language": "python",
   "name": "python3"
  },
  "language_info": {
   "codemirror_mode": {
    "name": "ipython",
    "version": 3
   },
   "file_extension": ".py",
   "mimetype": "text/x-python",
   "name": "python",
   "nbconvert_exporter": "python",
   "pygments_lexer": "ipython3",
   "version": "3.11.4"
  }
 },
 "nbformat": 4,
 "nbformat_minor": 5
}
